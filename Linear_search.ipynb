{
 "cells": [
  {
   "cell_type": "code",
   "execution_count": 8,
   "id": "2f108cd7-edfe-4279-9da9-8b379231e862",
   "metadata": {},
   "outputs": [
    {
     "name": "stdin",
     "output_type": "stream",
     "text": [
      "enter number of elements 3\n",
      "enter elements 8\n",
      "enter elements 3\n",
      "enter elements 9\n",
      "enter the searching elements 9\n"
     ]
    },
    {
     "name": "stdout",
     "output_type": "stream",
     "text": [
      "9 element found at position 2\n"
     ]
    }
   ],
   "source": [
    "def linear_search(list,key):\n",
    "    size=len(list)\n",
    "    index=0\n",
    "    while index<size:\n",
    "        if list[index]==key:\n",
    "            return index\n",
    "        index=index+1\n",
    "    return -1\n",
    "\n",
    "\n",
    "n=int(input(\"enter number of elements\"))\n",
    "lst=[]\n",
    "for i in range(n):\n",
    "    num=int(input(\"enter elements\"))\n",
    "    lst.append(num)\n",
    "\n",
    "key=int(input(\"enter the searching elements\"))\n",
    "position=linear_search(lst,key)\n",
    "if position ==-1:\n",
    "    print(\"element not found\")\n",
    "else:\n",
    "    print(\"{} element found at position {}\".format(key,position))"
   ]
  },
  {
   "cell_type": "code",
   "execution_count": 9,
   "id": "7f35f091-1360-4f7c-a412-4271ef6d25fd",
   "metadata": {},
   "outputs": [
    {
     "ename": "SyntaxError",
     "evalue": "incomplete input (3267022807.py, line 6)",
     "output_type": "error",
     "traceback": [
      "\u001b[1;36m  Cell \u001b[1;32mIn[9], line 6\u001b[1;36m\u001b[0m\n\u001b[1;33m    if key == lst[mid]:\u001b[0m\n\u001b[1;37m                       ^\u001b[0m\n\u001b[1;31mSyntaxError\u001b[0m\u001b[1;31m:\u001b[0m incomplete input\n"
     ]
    }
   ],
   "source": [
    "def binary_search(lst,key):\n",
    "    low=0\n",
    "    high=len(lst)-1\n",
    "    while low <=high:\n",
    "        mid=(low+high)\n",
    "        if key == lst[mid]:\n",
    "            "
   ]
  },
  {
   "cell_type": "code",
   "execution_count": null,
   "id": "3ca36f01-4dd1-4991-b2ef-89c8d8ae1b68",
   "metadata": {},
   "outputs": [],
   "source": []
  }
 ],
 "metadata": {
  "kernelspec": {
   "display_name": "Python 3 (ipykernel)",
   "language": "python",
   "name": "python3"
  },
  "language_info": {
   "codemirror_mode": {
    "name": "ipython",
    "version": 3
   },
   "file_extension": ".py",
   "mimetype": "text/x-python",
   "name": "python",
   "nbconvert_exporter": "python",
   "pygments_lexer": "ipython3",
   "version": "3.12.4"
  }
 },
 "nbformat": 4,
 "nbformat_minor": 5
}
