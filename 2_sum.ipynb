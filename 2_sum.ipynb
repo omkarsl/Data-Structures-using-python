{
 "cells": [
  {
   "cell_type": "code",
   "execution_count": 3,
   "id": "1a1bf91b-036c-4f77-8ca4-63e17e45801e",
   "metadata": {},
   "outputs": [
    {
     "name": "stdout",
     "output_type": "stream",
     "text": [
      "0 1\n"
     ]
    }
   ],
   "source": [
    "#2SUM\n",
    "a=[2,7,11,15]\n",
    "t=9\n",
    "for i in range(len(a)-1):\n",
    "    if a[i]+a[i+1]==t:\n",
    "        print(i,i+1)"
   ]
  },
  {
   "cell_type": "code",
   "execution_count": 4,
   "id": "b1905442-6ded-4e0a-9748-2da8068e381d",
   "metadata": {},
   "outputs": [
    {
     "name": "stdout",
     "output_type": "stream",
     "text": [
      "1 2\n"
     ]
    }
   ],
   "source": [
    "a=[3,2,4]\n",
    "t=6\n",
    "for i in range(len(a)-1):\n",
    "    if a[i]+a[i+1]==t:\n",
    "        print(i,i+1)"
   ]
  },
  {
   "cell_type": "code",
   "execution_count": 8,
   "id": "12ad72c1-ef03-40a0-8b85-aa90e5fc4885",
   "metadata": {},
   "outputs": [
    {
     "name": "stdout",
     "output_type": "stream",
     "text": [
      "0 1\n"
     ]
    }
   ],
   "source": [
    "a=[3,3]\n",
    "t=6\n",
    "for i in range(len(a)-1):\n",
    "    \n",
    "    if a[i]+a[i+1]==t:\n",
    "        print(i,i+1)"
   ]
  },
  {
   "cell_type": "code",
   "execution_count": 16,
   "id": "8267df2b-77ff-4758-8da8-19a1244b12d6",
   "metadata": {},
   "outputs": [
    {
     "name": "stdout",
     "output_type": "stream",
     "text": [
      "f\n",
      "f\n",
      "f\n",
      "l\n",
      "l\n",
      "l\n",
      "o\n",
      "o\n",
      "o\n",
      "w\n",
      "w\n",
      "w\n",
      "e\n",
      "e\n",
      "e\n",
      "r\n",
      "r\n",
      "r\n"
     ]
    }
   ],
   "source": [
    "#Longest common prefix\n",
    "str=[\"flower\",\"flow\",\"flight\"]\n",
    "for i in range(len(str[0])):\n",
    "    char=str[0][i]\n",
    "    print(char)\n",
    "    for st in str[1:]:\n",
    "        \n",
    "    "
   ]
  },
  {
   "cell_type": "code",
   "execution_count": 26,
   "id": "176dff6d-e270-4b4c-91f9-6d4db1ec12b9",
   "metadata": {},
   "outputs": [
    {
     "ename": "NameError",
     "evalue": "name 'nums' is not defined",
     "output_type": "error",
     "traceback": [
      "\u001b[1;31m---------------------------------------------------------------------------\u001b[0m",
      "\u001b[1;31mNameError\u001b[0m                                 Traceback (most recent call last)",
      "Cell \u001b[1;32mIn[26], line 4\u001b[0m\n\u001b[0;32m      2\u001b[0m a\u001b[38;5;241m=\u001b[39m[\u001b[38;5;241m1\u001b[39m,\u001b[38;5;241m1\u001b[39m,\u001b[38;5;241m2\u001b[39m]\n\u001b[0;32m      3\u001b[0m b\u001b[38;5;241m=\u001b[39m[]\n\u001b[1;32m----> 4\u001b[0m \u001b[38;5;28;01mfor\u001b[39;00m i \u001b[38;5;129;01min\u001b[39;00m nums:\n\u001b[0;32m      6\u001b[0m     \u001b[38;5;28;01mif\u001b[39;00m nums[i] \u001b[38;5;129;01mnot\u001b[39;00m \u001b[38;5;129;01min\u001b[39;00m b:\n\u001b[0;32m      7\u001b[0m         b\u001b[38;5;241m.\u001b[39mappend(nums[i])\n",
      "\u001b[1;31mNameError\u001b[0m: name 'nums' is not defined"
     ]
    }
   ],
   "source": [
    "#remove duplicates from sorted array\n",
    "nums=[1,1,2]\n",
    "b=[]\n",
    "for i in nums:\n",
    "\n",
    "    if nums[i] not in b:\n",
    "        b.append(nums[i])\n",
    "\n",
    "\n",
    "\n",
    "return b"
   ]
  },
  {
   "cell_type": "code",
   "execution_count": null,
   "id": "7bbdbbb9-7cc2-472c-b662-6d0feb8557f6",
   "metadata": {},
   "outputs": [],
   "source": []
  }
 ],
 "metadata": {
  "kernelspec": {
   "display_name": "Python 3 (ipykernel)",
   "language": "python",
   "name": "python3"
  },
  "language_info": {
   "codemirror_mode": {
    "name": "ipython",
    "version": 3
   },
   "file_extension": ".py",
   "mimetype": "text/x-python",
   "name": "python",
   "nbconvert_exporter": "python",
   "pygments_lexer": "ipython3",
   "version": "3.12.4"
  }
 },
 "nbformat": 4,
 "nbformat_minor": 5
}
