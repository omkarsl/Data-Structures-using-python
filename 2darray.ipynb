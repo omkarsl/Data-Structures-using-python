{
 "cells": [
  {
   "cell_type": "code",
   "execution_count": 1,
   "id": "32e89c68-91f6-42c2-bc07-894ec244ad9a",
   "metadata": {},
   "outputs": [
    {
     "data": {
      "text/plain": [
       "array([[10.+0.j, 20.+0.j, 30.+0.j],\n",
       "       [40.+0.j, 50.+0.j, 60.+0.j],\n",
       "       [70.+0.j, 80.+0.j, 90.+0.j]])"
      ]
     },
     "execution_count": 1,
     "metadata": {},
     "output_type": "execute_result"
    }
   ],
   "source": [
    "import numpy as np\n",
    "x=np.array([[10,20,30],\n",
    "           [40,50,60],\n",
    "           [70,80,90]],dtype=complex)\n",
    "x\n"
   ]
  },
  {
   "cell_type": "code",
   "execution_count": 2,
   "id": "a43511cd-ba65-4f8d-9525-a6e9193281ec",
   "metadata": {},
   "outputs": [
    {
     "data": {
      "text/plain": [
       "array([[0., 0., 0.],\n",
       "       [0., 0., 0.]])"
      ]
     },
     "execution_count": 2,
     "metadata": {},
     "output_type": "execute_result"
    }
   ],
   "source": [
    "y=np.zeros((2,3))\n",
    "y"
   ]
  },
  {
   "cell_type": "code",
   "execution_count": 5,
   "id": "640bf4a2-fc6b-4fd7-abd6-97b1bb3d6d0a",
   "metadata": {},
   "outputs": [
    {
     "data": {
      "text/plain": [
       "array([[1., 1.],\n",
       "       [1., 1.],\n",
       "       [1., 1.]])"
      ]
     },
     "execution_count": 5,
     "metadata": {},
     "output_type": "execute_result"
    }
   ],
   "source": [
    "y=np.ones((3,2))\n",
    "y"
   ]
  },
  {
   "cell_type": "code",
   "execution_count": 6,
   "id": "0c0db00f-5fe0-41f0-b5b5-81494905b24a",
   "metadata": {},
   "outputs": [
    {
     "data": {
      "text/plain": [
       "array([[(1, 1.), (1, 1.), (1, 1.)],\n",
       "       [(1, 1.), (1, 1.), (1, 1.)],\n",
       "       [(1, 1.), (1, 1.), (1, 1.)]], dtype=[('m', '<i4'), ('n', '<f8')])"
      ]
     },
     "execution_count": 6,
     "metadata": {},
     "output_type": "execute_result"
    }
   ],
   "source": [
    "z=np.ones((3,3),dtype=[('m','int'),('n','float')])\n",
    "z"
   ]
  },
  {
   "cell_type": "code",
   "execution_count": 26,
   "id": "2e3afa16-1ad2-453a-bf0b-196828ecd14f",
   "metadata": {},
   "outputs": [
    {
     "name": "stdout",
     "output_type": "stream",
     "text": [
      "10 20 30 \n",
      "40 50 60 \n",
      "70 80 90 \n"
     ]
    }
   ],
   "source": [
    "# traversing an array\n",
    "import numpy as np\n",
    "x=np.array([[10,20,30],\n",
    "           [40,50,60],\n",
    "           [70,80,90]])\n",
    "for i in x:\n",
    "    for j in i:\n",
    "        print(j, end=\" \") #to give saperation after each element\n",
    "    print() #to print in next line"
   ]
  },
  {
   "cell_type": "code",
   "execution_count": 11,
   "id": "7e5a3eb8-8c71-4016-b05a-b7467cdb2c00",
   "metadata": {},
   "outputs": [
    {
     "name": "stdout",
     "output_type": "stream",
     "text": [
      "[[70 80 90]]\n"
     ]
    }
   ],
   "source": [
    "print(x[2:3])"
   ]
  },
  {
   "cell_type": "code",
   "execution_count": 12,
   "id": "30f72702-f222-4ee6-81c2-5f54a9a1727d",
   "metadata": {},
   "outputs": [
    {
     "name": "stdout",
     "output_type": "stream",
     "text": [
      "[[10 20 30]\n",
      " [40 50 60]]\n"
     ]
    }
   ],
   "source": [
    "print(x[0:2])"
   ]
  },
  {
   "cell_type": "code",
   "execution_count": 17,
   "id": "b2b82a02-197e-4546-8926-f0b170dfbcde",
   "metadata": {},
   "outputs": [
    {
     "name": "stdout",
     "output_type": "stream",
     "text": [
      "[[70 80 90]\n",
      " [40 50 60]\n",
      " [10 20 30]]\n"
     ]
    }
   ],
   "source": [
    "print(x[::-1])"
   ]
  },
  {
   "cell_type": "code",
   "execution_count": 23,
   "id": "9c199d8c-5ad0-42fe-b98c-1e640ab98790",
   "metadata": {},
   "outputs": [
    {
     "name": "stdout",
     "output_type": "stream",
     "text": [
      "[30 60 90]\n"
     ]
    }
   ],
   "source": [
    "print(x[ :,2])"
   ]
  },
  {
   "cell_type": "code",
   "execution_count": 29,
   "id": "868b7f81-f3e3-40a8-b6a1-955c21799914",
   "metadata": {},
   "outputs": [
    {
     "data": {
      "text/plain": [
       "[[11, 22, 33], [44, 55, 66], [77, 88, 99]]"
      ]
     },
     "execution_count": 29,
     "metadata": {},
     "output_type": "execute_result"
    }
   ],
   "source": [
    "y=np.array([[1,2,3],\n",
    "           [4,5,6],\n",
    "           [7,8,9]])\n",
    "\n",
    "result=[]\n",
    "for i in range(len(x)):\n",
    "    row=[]\n",
    "    for j in range(len(x[0])):\n",
    "        row.append(x[i,j]+y[i,j])\n",
    "    result.append(row)\n",
    "\n",
    "result"
   ]
  },
  {
   "cell_type": "code",
   "execution_count": 33,
   "id": "6e79cad5-c677-464c-acf0-c6e04c930029",
   "metadata": {},
   "outputs": [
    {
     "name": "stdout",
     "output_type": "stream",
     "text": [
      "[[1 2 3]\n",
      " [4 5 6]\n",
      " [7 8 9]]\n"
     ]
    },
    {
     "data": {
      "text/plain": [
       "array([[1, 4, 7],\n",
       "       [2, 5, 8],\n",
       "       [3, 6, 9]])"
      ]
     },
     "execution_count": 33,
     "metadata": {},
     "output_type": "execute_result"
    }
   ],
   "source": [
    "import numpy as pd\n",
    "arr1=np.array([[1,2,3],[4,5,6],[7,8,9]])\n",
    "print(arr1)\n",
    "arr2=np.array([[10,20,30],[40,50,60],[70,80,90]])\n",
    "result=np.transpose(arr1)\n",
    "result"
   ]
  },
  {
   "cell_type": "code",
   "execution_count": null,
   "id": "f8474600-883f-48c8-9d86-3762806a3d39",
   "metadata": {},
   "outputs": [],
   "source": [
    " "
   ]
  },
  {
   "cell_type": "code",
   "execution_count": null,
   "id": "151a4037-1392-426c-a734-179db0523906",
   "metadata": {},
   "outputs": [],
   "source": []
  }
 ],
 "metadata": {
  "kernelspec": {
   "display_name": "Python 3 (ipykernel)",
   "language": "python",
   "name": "python3"
  },
  "language_info": {
   "codemirror_mode": {
    "name": "ipython",
    "version": 3
   },
   "file_extension": ".py",
   "mimetype": "text/x-python",
   "name": "python",
   "nbconvert_exporter": "python",
   "pygments_lexer": "ipython3",
   "version": "3.12.4"
  }
 },
 "nbformat": 4,
 "nbformat_minor": 5
}
